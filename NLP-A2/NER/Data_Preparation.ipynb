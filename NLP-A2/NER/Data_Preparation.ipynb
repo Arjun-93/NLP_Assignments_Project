{
 "cells": [
  {
   "cell_type": "markdown",
   "metadata": {},
   "source": [
    "# Dataset Preparation"
   ]
  },
  {
   "cell_type": "code",
   "execution_count": 25,
   "metadata": {},
   "outputs": [
    {
     "name": "stdout",
     "output_type": "stream",
     "text": [
      "{'I_PETITIONER', 'I_ORG', 'B_DATE', 'I_COURT', 'I_PRECEDENT', 'B_JUDGE', 'I_CASE', 'B_STATUTE', 'B_RESPONDENT', 'B_CASE', 'I_PROVISION', 'I_JUDGE', 'B_WITNESS', 'I_RESPONDENT', 'I_GPE', 'I_OTHER', 'B_GPE', 'B_PRECEDENT', 'O', 'B_OTHER', 'B_PROVISION', 'I_WITNESS', 'B_PETITIONER', 'I_DATE', 'B_ORG', 'B_COURT', 'I_STATUTE'}\n",
      "27\n",
      "{'I_PETITIONER', 'I_ORG', 'B_DATE', 'I_COURT', 'I_PRECEDENT', 'B_JUDGE', 'I_CASE', 'B_STATUTE', 'B_RESPONDENT', 'B_CASE', 'I_PROVISION', 'I_JUDGE', 'B_WITNESS', 'I_RESPONDENT', 'I_GPE', 'I_OTHER', 'B_GPE', 'B_PRECEDENT', 'O', 'B_OTHER', 'B_PROVISION', 'I_WITNESS', 'B_PETITIONER', 'I_DATE', 'B_ORG', 'B_COURT', 'I_STATUTE'}\n",
      "27\n",
      "{'I_PETITIONER', 'I_ORG', 'B_DATE', 'I_PRECEDENT', 'I_COURT', 'B_JUDGE', 'I_CASE', 'B_STATUTE', 'B_RESPONDENT', 'B_CASE', 'I_PROVISION', 'I_JUDGE', 'B_WITNESS', 'I_RESPONDENT', 'I_GPE', 'I_OTHER', 'B_GPE', 'B_PRECEDENT', 'O', 'B_OTHER', 'B_PROVISION', 'I_WITNESS', 'B_PETITIONER', 'I_DATE', 'B_ORG', 'B_COURT', 'I_STATUTE'}\n",
      "27\n"
     ]
    }
   ],
   "source": [
    "import os\n",
    "import re\n",
    "import json\n",
    "from sklearn.model_selection import train_test_split\n",
    "\n",
    "\n",
    "def generate_data(dataset):\n",
    "    all_labels = set()\n",
    "    final_data = {}\n",
    "\n",
    "    for data in dataset:\n",
    "        text = data['data']['text']\n",
    "        annotations = data['annotations'][0]['result']\n",
    "        pattern = r'[ ]+'\n",
    "        labels_encoded = 0\n",
    "        annotations = sorted(annotations, key=lambda x: len(x['value']['text']), reverse=True)\n",
    "\n",
    "\n",
    "        for annotation in annotations:\n",
    "            label_name = annotation['value']['labels'][0]\n",
    "            label_text = annotation['value']['text']\n",
    "            if label_text not in text:\n",
    "                print('ERROR: label not found in text', label_text)\n",
    "\n",
    "            # Encode labels itself\n",
    "            label_tokens = ['I_' + label_name] * len(re.split(pattern, label_text))\n",
    "            label_tokens[0] = 'B_' + label_name\n",
    "            \n",
    "            # Replace the target label with encoded label\n",
    "            new_text = text.replace(label_text, '@~' + ' '.join(label_tokens) + '@~', 1)\n",
    "            if new_text != text:\n",
    "                labels_encoded += 1\n",
    "                text = new_text\n",
    "        \n",
    "        # Clean the labels\n",
    "        labels = re.split(pattern, text)\n",
    "        for i in range(len(labels)):\n",
    "            if 'B_' in labels[i] or 'I_' in labels[i]:\n",
    "                bio_label = 'B_' if 'B_' in labels[i] else 'I_'\n",
    "                start = labels[i].index(bio_label)\n",
    "                end = start + 2\n",
    "                while end < len(labels[i]) and labels[i][end].isupper():\n",
    "                    end += 1\n",
    "                labels[i] = labels[i][start:end]\n",
    "            else:\n",
    "                labels[i] = 'O'\n",
    "                \n",
    "        # Check whether all labels given are encoded or not\n",
    "        if labels_encoded != len(annotations):\n",
    "            print('ERROR: labels not encoded correctly', labels_encoded, len(annotations))\n",
    "            print('Some labels missed in encoding')\n",
    "        \n",
    "        # Check whether the length of labels and data-tokens are matching or not\n",
    "        if len(labels) != len(re.split(pattern, data['data']['text'])):\n",
    "            print('ERROR: labels not encoded correctly', len(labels), len(re.split(pattern, data['data']['text'])))\n",
    "            print('Length of labels and text-tokens are not matching')\n",
    "        \n",
    "        final_data[data['id']] = {'text': data['data']['text'], 'labels': labels}\n",
    "        all_labels.update(labels)\n",
    "        \n",
    "    # there should be only 27 labels (13*2 + 1)\n",
    "    print(all_labels)\n",
    "    print(len(all_labels))\n",
    "    return final_data\n",
    "\n",
    "\n",
    "\n",
    "train = json.load(open('NER_TRAIN_JUDGEMENT.json', 'r')) \n",
    "train_split, val_split = train_test_split(train, test_size=0.15, random_state=42)   \n",
    "test_split = json.load(open('NER_TEST_JUDGEMENT.json', 'r'))\n",
    "\n",
    "json.dump(train_split, open('NER_train_split.json', 'w'))\n",
    "json.dump(val_split, open('NER_val_split.json', 'w'))\n",
    "json.dump(test_split, open('NER_test_split.json', 'w'))\n",
    "\n",
    "train_data = generate_data(train_split)\n",
    "val_data = generate_data(val_split)\n",
    "test_data = generate_data(test_split)\n",
    "\n",
    "json.dump(train_data, open('NER_train_data_v2.json', 'w'))\n",
    "json.dump(val_data, open('NER_val_data_v2.json', 'w'))\n",
    "json.dump(test_data, open('NER_test_data_v2.json', 'w'))"
   ]
  },
  {
   "cell_type": "markdown",
   "metadata": {},
   "source": [
    "# Testing (Ignore this cell)"
   ]
  },
  {
   "cell_type": "code",
   "execution_count": 20,
   "metadata": {},
   "outputs": [
    {
     "name": "stdout",
     "output_type": "stream",
     "text": [
      "{'I_PETITIONER', 'I_ORG', 'B_DATE', 'I_COURT', 'I_PRECEDENT', 'B_JUDGE', 'I_CASE', 'B_STATUTE', 'B_RESPONDENT', 'B_CASE', 'I_PROVISION', 'I_JUDGE', 'B_WITNESS', 'I_RESPONDENT', 'I_GPE', 'I_OTHER', 'B_GPE', 'B_PRECEDENT', 'O', 'B_OTHER', 'B_PROVISION', 'I_WITNESS', 'B_PETITIONER', 'I_DATE', 'B_ORG', 'B_COURT', 'I_STATUTE'}\n",
      "27\n"
     ]
    }
   ],
   "source": [
    "import os\n",
    "import re\n",
    "import json\n",
    "\n",
    "train_split = json.load(open('NER_train_split.json', 'r')) \n",
    "val_split = json.load(open('NER_val_split.json', 'r'))\n",
    "test_split = json.load(open('NER_test_split.json', 'r'))\n",
    "all_labels = set()\n",
    "\n",
    "\n",
    "for data in  val_split + train_split + test_split:\n",
    "    text = data['data']['text']\n",
    "    annotations = data['annotations'][0]['result']\n",
    "    pattern = r'[ ]+'\n",
    "    labels_encoded = 0\n",
    "    annotations = sorted(annotations, key=lambda x: len(x['value']['text']), reverse=True)\n",
    "\n",
    "    for annotation in annotations:\n",
    "        label_name = annotation['value']['labels'][0]\n",
    "        label_text = annotation['value']['text']\n",
    "        if label_text not in text:\n",
    "            print('ERROR: label not found in text', label_text)\n",
    "\n",
    "        label_tokens = ['I_' + label_name] * len(re.split(pattern, label_text))\n",
    "        label_tokens[0] = 'B_' + label_name\n",
    "        \n",
    "        new_text = text.replace(label_text, '@~' + ' '.join(label_tokens) + '@~', 1)\n",
    "        if new_text != text:\n",
    "            labels_encoded += 1\n",
    "            text = new_text\n",
    "            \n",
    "    labels = re.split(pattern, text)\n",
    "    for i in range(len(labels)):\n",
    "        if 'B_' in labels[i] or 'I_' in labels[i]:\n",
    "            bio_label = 'B_' if 'B_' in labels[i] else 'I_'\n",
    "            start = labels[i].index(bio_label)\n",
    "            end = start + 2\n",
    "            while end < len(labels[i]) and labels[i][end].isupper():\n",
    "                end += 1\n",
    "            labels[i] = labels[i][start:end]\n",
    "        else:\n",
    "            labels[i] = 'O'\n",
    "            \n",
    "    if labels_encoded != len(annotations):\n",
    "        print('ERROR: labels not encoded correctly', labels_encoded, len(annotations))\n",
    "        print('Some labels missed in encoding')\n",
    "        # print(data['data']['text'])\n",
    "        # print(text)\n",
    "        # print(labels)\n",
    "    \n",
    "    if len(labels) != len(re.split(pattern, data['data']['text'])):\n",
    "        print('ERROR: labels not encoded correctly', len(labels), len(re.split(pattern, data['data']['text'])))\n",
    "        print('Length of labels and text-tokens are not matching')\n",
    "    \n",
    "    all_labels.update(labels)\n",
    "\n",
    "print(all_labels)\n",
    "print(len(all_labels))"
   ]
  },
  {
   "cell_type": "code",
   "execution_count": 89,
   "metadata": {},
   "outputs": [
    {
     "data": {
      "text/plain": [
       "['Section 9 (c)', 'Section 9']"
      ]
     },
     "execution_count": 89,
     "metadata": {},
     "output_type": "execute_result"
    }
   ],
   "source": [
    "texts = {'Section 9', 'Section 9 (c)'}\n",
    "sorted(texts, key=lambda x: len(x), reverse=True)"
   ]
  }
 ],
 "metadata": {
  "kernelspec": {
   "display_name": "Python 3",
   "language": "python",
   "name": "python3"
  },
  "language_info": {
   "codemirror_mode": {
    "name": "ipython",
    "version": 3
   },
   "file_extension": ".py",
   "mimetype": "text/x-python",
   "name": "python",
   "nbconvert_exporter": "python",
   "pygments_lexer": "ipython3",
   "version": "3.11.4"
  }
 },
 "nbformat": 4,
 "nbformat_minor": 2
}
