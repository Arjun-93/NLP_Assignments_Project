{
 "cells": [
  {
   "cell_type": "markdown",
   "metadata": {},
   "source": [
    "# Check for Out-of Vocabulary Words"
   ]
  },
  {
   "cell_type": "code",
   "execution_count": 5,
   "metadata": {},
   "outputs": [
    {
     "name": "stdout",
     "output_type": "stream",
     "text": [
      "Total tokens: 5171\n",
      "Out of vocabulary tokens: 5171\n",
      "In vocabulary tokens: 0\n",
      "Token with labels: 706\n",
      "Unique tokens: 1324\n",
      "Unique out of vocabulary tokens: 1324\n",
      "Unique in vocabulary tokens: 0\n",
      "Unique token with labels: 356\n",
      "Out of vocabulary Labelled tokens:\n",
      "{'install', 'virtual', 'profile', 'features', 'Graphics', 'click', 'IOS', 'response', 'practicality', 'res', 'ventilation', 'Runs', 'look', 'weight', 'lights', 'SD', 'keyboard', 'aesthetics', 'supply', 'flexibility', 'heat', 'experience', 'setup', 'disc', 'Microsoft', 'sound', 'customer', 'Customization', 'configuration', 'surfuring', 'Built-in', 'thunderbolt', 'physical', 'support', 'navigate', 'colors', 'delivery', 'Mountain', 'USB', 'lifetime', '10.9', 'shipping', 'touchscreen', 'capability', 'design', 'mountain', 'unibody', 'right', 'or', 'Rom', 'Peripherals', 'of', 'cable', 'SquareTrade', 'Logic', 'fonts', 'set', 'gaming', 'video', 'ADSl', 'functions', '2.9ghz', 'chipset', 'VGA', 'SDXC', 'games', 'built-in', 'SuperDrive', 'speaker', 'browser', 'connection', 'transport', 'lit', 'Windows', 'shipment', 'form', 'WiFi', 'track', 'Mother', 'instructions', 'MS', 'entertainment', 'SERVICE', 'computing', 'interface', 'uses', 'startup', 'DVD', 'Warranty', 'backlit', 'downloading', 'Works', 'network', 'for', 'Boot-up', 'Word', '(', 'pad', 'body', 'key', 'softwares', 'Board', 'speakers', 'aluminum', 'presentation', 'stuff', 'baterry', 'material', 'runs', 'brightness', 'construction', 'display', 'Protection', 'Office', 'power', 'carry', 'battery', 'Keyboard', 'aluminium', '2011', 'OS', 'output', 'retina', 'rubber', 'HDMI', 'photo', 'dual-core', 'durability', 'functionality', 'iTunes', 'Lion', 'mother', 'Cost', 'AppleCare', 'hardware', 'apps', 'surfing', 'iDVD', 'own', 'keys', 'adapter', 'HDD', 'Safari', 'devices', 'boards', 'start', 'user', 'intel', 'specs', 'in', 'apple', 'adjustments', 'swipes', 'editing', 'compact', 'performs', '800', 'wifi', 'anodized', 'Mavericks', 'tutorials', 'disk', 'priced', 'connectivity', 'Accidental', 'clicking', 'packing', 'mobility', 'create', 'capabilities', 'cycle', 'word', 'built', 'UX', 'craftmanship', 'System', 'Shipped', 'system', 'audio', 'the', '7', 'trackpad', 'os', 'Mac', 'videos', 'pads', 'watching', 'designed', 'looking', '4000', 'on/off', 'Build', 'screen', '830', 'Quality', 'software', 'graphics', 'bass', 'Intel4000', 'glass', 'down', 'value', 'ssd', 'port', 'use', '3D', 'playing', 'updates', 'RAM', 'internal', 'size', 'finger', 'usability', 'i5', 'footprint', 'SSD', 'steam', 'range', 'portability', 'Computer', 'build', 'drive', 'applications', 'usb', 'chip', 'storage', 'CUSTOMER', 'ports', 'iPhoto', 'time', 'performed', 'Bluetooth', 'card', 'memory', 'feels', 'processing', 'working', 'by', 'Performance', 'works', 'XP', 'i7', 'board', 'external', 'performance', 'times', 'application', 'components', 'browsing', 'your', 'Firewire', 'mic', 'looks', 'Harddrive', 'player', 'windows', 'factor', 'Price', 'slot', 'Hardware', 'hard', ')', 'touch', 'gestures', 'program', 'CD', 'schooling', 'customize', 'OpenOffice', 'security', 'nail', 'Startup', 'handle', 'operation', 'files', 'bookmarks', 'tech', 'settings', 'Web', 'internet', 'media', 'rendering', 'technical', 'exterior', 'Screen', 'switch', 'life', 'MagSafe', 'ethernet', 'Set-Up', 'graphic', 'app', 'package', 'operating', 'provided', 'spec', 'Set', 'interneting', 'fans', 'Cd', '2', 'on', 'shortcuts', 'cover', 'bluetooth', 'loading', 'Win8', 'service', 'processor', 'integrate', 'quality', 'setting', 'count', 'lighted', 'OSX', 'function', 'log', 'ecosystem', 'product', 'office', 'price', 'portable', 'two', 'TRACKPAD', 'CD/DVD', 'starts', 'mouse', 'into', 'case', 'accessories', 'lion', 'Shipping', 'touchpad', 'home', 'resolution', 'receptacle', 'delete', '8', 'reader', 'up', '3-Year', 'button', 'overall', 'os.x', 'boots', 'Samsung', 'Boot', 'streaming', 'appearance', 'MAC', 'Audio', 'volume', 'speed', 'USB3', 'finish', 'configure'}\n"
     ]
    }
   ],
   "source": [
    "import json\n",
    "\n",
    "train_data = json.load(open('train_data.json', 'r'))\n",
    "val_data = json.load(open('val_data.json', 'r'))\n",
    "test_data = json.load(open('test_data.json', 'r'))\n",
    "\n",
    "total_tokens = []\n",
    "out_of_vocab = []\n",
    "in_vocab = []\n",
    "token_with_labels = []\n",
    "\n",
    "for index, data in test_data.items():\n",
    "    text = data['text']\n",
    "    labels = data['labels']\n",
    "    tokens = text.split()\n",
    "    for i, token in enumerate(tokens):\n",
    "        total_tokens.append(token)\n",
    "        try:\n",
    "            model[token]\n",
    "            in_vocab.append(token)\n",
    "        except:\n",
    "            out_of_vocab.append(token)\n",
    "            if labels[i] != 'O':\n",
    "                token_with_labels.append(token)\n",
    "                # print(token, labels[i])\n",
    "                pass\n",
    "\n",
    "print('Total tokens:', len(total_tokens))\n",
    "print('Out of vocabulary tokens:', len(out_of_vocab))\n",
    "print('In vocabulary tokens:', len(in_vocab))\n",
    "print('Token with labels:', len(token_with_labels))\n",
    "print('Unique tokens:', len(set(total_tokens)))\n",
    "print('Unique out of vocabulary tokens:', len(set(out_of_vocab)))\n",
    "print('Unique in vocabulary tokens:', len(set(in_vocab)))\n",
    "print('Unique token with labels:', len(set(token_with_labels)))\n",
    "print('Out of vocabulary Labelled tokens:')\n",
    "print(set(token_with_labels))"
   ]
  },
  {
   "cell_type": "markdown",
   "metadata": {},
   "source": [
    "# Word2Vector Embeddings"
   ]
  },
  {
   "cell_type": "code",
   "execution_count": 6,
   "metadata": {},
   "outputs": [],
   "source": [
    "import gensim   \n",
    "import gensim.downloader as api\n",
    "\n",
    "# Download and Load the pre-trained model\n",
    "model = api.load('word2vec-google-news-300') "
   ]
  },
  {
   "cell_type": "code",
   "execution_count": 2,
   "metadata": {},
   "outputs": [
    {
     "name": "stdout",
     "output_type": "stream",
     "text": [
      "0.7357167\n"
     ]
    }
   ],
   "source": [
    "# print(list(api.info()['models'].keys()))\n",
    "# print(len(model['world']), model['world'])\n",
    "# print(model.most_similar('laugh', topn=5))\n",
    "# print(model['wfbow'])\n",
    "print(model.similarity('laugh', 'laughing'))"
   ]
  },
  {
   "cell_type": "markdown",
   "metadata": {},
   "source": [
    "# FastText Embeddings\n"
   ]
  },
  {
   "cell_type": "code",
   "execution_count": 7,
   "metadata": {},
   "outputs": [],
   "source": [
    "fasttext_model = api.load('fasttext-wiki-news-subwords-300')"
   ]
  },
  {
   "cell_type": "code",
   "execution_count": 8,
   "metadata": {},
   "outputs": [
    {
     "name": "stdout",
     "output_type": "stream",
     "text": [
      "0.74053586\n"
     ]
    }
   ],
   "source": [
    "print(fasttext_model.similarity('laugh', 'laughing'))"
   ]
  },
  {
   "cell_type": "markdown",
   "metadata": {},
   "source": [
    "# GloVe Embeddings"
   ]
  },
  {
   "cell_type": "code",
   "execution_count": 9,
   "metadata": {},
   "outputs": [],
   "source": [
    "glove_model = api.load('glove-wiki-gigaword-300')"
   ]
  },
  {
   "cell_type": "code",
   "execution_count": 10,
   "metadata": {},
   "outputs": [
    {
     "name": "stdout",
     "output_type": "stream",
     "text": [
      "0.65835667\n"
     ]
    }
   ],
   "source": [
    "print(glove_model.similarity('laugh', 'laughing'))"
   ]
  }
 ],
 "metadata": {
  "kernelspec": {
   "display_name": "Python 3",
   "language": "python",
   "name": "python3"
  },
  "language_info": {
   "codemirror_mode": {
    "name": "ipython",
    "version": 3
   },
   "file_extension": ".py",
   "mimetype": "text/x-python",
   "name": "python",
   "nbconvert_exporter": "python",
   "pygments_lexer": "ipython3",
   "version": "3.9.12"
  }
 },
 "nbformat": 4,
 "nbformat_minor": 2
}
