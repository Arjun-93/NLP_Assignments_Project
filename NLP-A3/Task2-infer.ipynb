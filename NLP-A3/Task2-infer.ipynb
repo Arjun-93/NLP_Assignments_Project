{
 "cells": [
  {
   "cell_type": "code",
   "execution_count": 1,
   "metadata": {},
   "outputs": [
    {
     "name": "stderr",
     "output_type": "stream",
     "text": [
      "/mnt/disk1/sumdev/CourseWork/a3_env/lib/python3.12/site-packages/tqdm/auto.py:21: TqdmWarning: IProgress not found. Please update jupyter and ipywidgets. See https://ipywidgets.readthedocs.io/en/stable/user_install.html\n",
      "  from .autonotebook import tqdm as notebook_tqdm\n"
     ]
    }
   ],
   "source": [
    "import torch\n",
    "from datasets import load_dataset\n",
    "from torch.utils.data import DataLoader"
   ]
  },
  {
   "cell_type": "code",
   "execution_count": 2,
   "metadata": {},
   "outputs": [
    {
     "name": "stdout",
     "output_type": "stream",
     "text": [
      "50000 2169 2999\n"
     ]
    }
   ],
   "source": [
    "# Load training dataset, only the first 50,000 examples\n",
    "train_dataset = load_dataset(\"wmt16\", \"de-en\", split=\"train[:50000]\")\n",
    "\n",
    "# Load validation and test datasets\n",
    "validation_dataset = load_dataset(\"wmt16\", \"de-en\", split=\"validation\")\n",
    "test_dataset = load_dataset(\"wmt16\", \"de-en\", split=\"test\")\n",
    "print(len(train_dataset), len(validation_dataset), len(test_dataset))"
   ]
  },
  {
   "cell_type": "markdown",
   "metadata": {},
   "source": [
    "# Setup-2A"
   ]
  },
  {
   "cell_type": "code",
   "execution_count": 4,
   "metadata": {},
   "outputs": [],
   "source": [
    "import torch\n",
    "import math\n",
    "import torch.nn as nn\n",
    "from torchtext.data.utils import get_tokenizer\n",
    "from torchtext.vocab import build_vocab_from_iterator\n",
    "from torchtext.datasets import Multi30k\n",
    "from typing import Iterable, List\n",
    "\n",
    "# Define the PositionalEncoding module\n",
    "class PositionalEncoding(nn.Module):\n",
    "    def __init__(self, emb_size: int, dropout: float, maxlen: int = 5000):\n",
    "        super(PositionalEncoding, self).__init__()\n",
    "        den = torch.exp(- torch.arange(0, emb_size, 2)* math.log(10000) / emb_size)\n",
    "        pos = torch.arange(0, maxlen).reshape(maxlen, 1)\n",
    "        pos_embedding = torch.zeros((maxlen, emb_size))\n",
    "        pos_embedding[:, 0::2] = torch.sin(pos * den)\n",
    "        pos_embedding[:, 1::2] = torch.cos(pos * den)\n",
    "        pos_embedding = pos_embedding.unsqueeze(-2)\n",
    "\n",
    "        self.dropout = nn.Dropout(dropout)\n",
    "        self.register_buffer('pos_embedding', pos_embedding)\n",
    "\n",
    "    def forward(self, token_embedding):\n",
    "        return self.dropout(token_embedding + self.pos_embedding[:token_embedding.size(0), :])\n",
    "\n",
    "\n",
    "class TokenEmbedding(nn.Module):\n",
    "    def __init__(self, vocab_size: int, emb_size):\n",
    "        super(TokenEmbedding, self).__init__()\n",
    "        self.embedding = nn.Embedding(vocab_size, emb_size)\n",
    "        self.emb_size = emb_size\n",
    "\n",
    "    def forward(self, tokens):\n",
    "        return self.embedding(tokens.long()) * math.sqrt(self.emb_size)\n",
    "\n",
    "\n",
    "# Define the Transformer model\n",
    "class TransformerModel(nn.Module):\n",
    "    def __init__(self, src_vocab_size, tgt_vocab_size, emb_dim=234, nhead=6, num_encoder_layers=5, num_decoder_layers=5, dropout=0.1):\n",
    "        super(TransformerModel, self).__init__()\n",
    "        self.embedding_dim = emb_dim\n",
    "        self.transformer = nn.Transformer(\n",
    "            d_model=emb_dim, nhead=nhead, num_encoder_layers=num_encoder_layers, \n",
    "            num_decoder_layers=num_decoder_layers, dropout=dropout, batch_first=True)\n",
    "        self.src_token_emb = nn.Embedding(src_vocab_size, emb_dim)\n",
    "        self.tgt_token_emb = nn.Embedding(tgt_vocab_size, emb_dim)\n",
    "        self.linear = nn.Linear(emb_dim, tgt_vocab_size)\n",
    "        self.positional_encoding = PositionalEncoding(emb_dim, dropout=dropout)\n",
    "\n",
    "\n",
    "    def forward(self, src, tgt, src_mask, tgt_mask, src_padding_mask, tgt_padding_mask, memory_padding_mask):\n",
    "        src_emb = self.positional_encoding(self.src_token_emb(src))\n",
    "        tgt_emb = self.positional_encoding(self.tgt_token_emb(tgt))\n",
    "        output = self.transformer(src_emb, tgt_emb, src_mask, tgt_mask, None, src_padding_mask, tgt_padding_mask, memory_padding_mask)\n",
    "        output = self.linear(output)\n",
    "        return output\n",
    "    \n",
    "    def encode(self, src, src_mask):\n",
    "        return self.transformer.encoder(self.positional_encoding(self.src_token_emb(src)), src_mask)\n",
    "\n",
    "    def decode(self, tgt, memory, tgt_mask):\n",
    "        return self.transformer.decoder(self.positional_encoding(self.tgt_token_emb(tgt)), memory, tgt_mask)\n"
   ]
  },
  {
   "cell_type": "code",
   "execution_count": 5,
   "metadata": {},
   "outputs": [],
   "source": [
    "from typing import Iterable\n",
    "\n",
    "# Define function to yield tokens from the dataset\n",
    "def yield_tokens(data_iter: Iterable, language: str):\n",
    "    for data_sample in data_iter:\n",
    "        yield token_transform[language](data_sample['translation'][language])\n",
    "\n",
    "# Set up tokenizers\n",
    "token_transform = {}\n",
    "SRC_LANGUAGE = 'de'\n",
    "TGT_LANGUAGE = 'en'\n",
    "token_transform[SRC_LANGUAGE] = get_tokenizer('spacy', language='de_core_news_sm')\n",
    "token_transform[TGT_LANGUAGE] = get_tokenizer('spacy', language='en_core_web_sm')\n",
    "\n",
    "\n",
    "# Build vocabulary\n",
    "vocab_transform = {}\n",
    "UNK_IDX, PAD_IDX, BOS_IDX, EOS_IDX = 0, 1, 2, 3\n",
    "vocab_transform[SRC_LANGUAGE] = build_vocab_from_iterator(yield_tokens(train_dataset, 'de'), specials=[\"<unk>\", \"<pad>\", \"<bos>\", \"<eos>\"])\n",
    "vocab_transform[TGT_LANGUAGE] = build_vocab_from_iterator(yield_tokens(train_dataset, 'en'), specials=[\"<unk>\", \"<pad>\", \"<bos>\", \"<eos>\"])\n",
    "vocab_transform[SRC_LANGUAGE].set_default_index(UNK_IDX)\n",
    "vocab_transform[TGT_LANGUAGE].set_default_index(UNK_IDX)"
   ]
  },
  {
   "cell_type": "code",
   "execution_count": 6,
   "metadata": {},
   "outputs": [],
   "source": [
    "device = torch.device('cuda' if torch.cuda.is_available() else 'cpu')\n",
    "\n",
    "def generate_square_subsequent_mask(sz):\n",
    "    mask = (torch.triu(torch.ones((sz, sz), device=device)) == 1).transpose(0, 1)\n",
    "    mask = mask.float().masked_fill(mask == 0, float('-inf')).masked_fill(mask == 1, float(0.0))\n",
    "    return mask\n",
    "\n",
    "def create_mask(src, tgt):\n",
    "    src_seq_len = src.shape[1]\n",
    "    tgt_seq_len = tgt.shape[1]\n",
    "\n",
    "    tgt_mask = generate_square_subsequent_mask(tgt_seq_len)\n",
    "    src_mask = torch.zeros((src_seq_len, src_seq_len),device=device).type(torch.bool)\n",
    "    src_padding_mask = (src == PAD_IDX)\n",
    "    tgt_padding_mask = (tgt == PAD_IDX)\n",
    "    return src_mask, tgt_mask, src_padding_mask, tgt_padding_mask"
   ]
  },
  {
   "cell_type": "code",
   "execution_count": 14,
   "metadata": {},
   "outputs": [
    {
     "data": {
      "text/plain": [
       "<All keys matched successfully>"
      ]
     },
     "execution_count": 14,
     "metadata": {},
     "output_type": "execute_result"
    }
   ],
   "source": [
    "device = torch.device('cuda' if torch.cuda.is_available() else 'cpu')\n",
    "\n",
    "# Initialize model\n",
    "SRC_VOCAB_SIZE = len(vocab_transform[SRC_LANGUAGE])\n",
    "TGT_VOCAB_SIZE = len(vocab_transform[TGT_LANGUAGE])\n",
    "EMB_DIM = 256\n",
    "N_HEAD = 8\n",
    "NUM_ENCODER_LAYERS = 8\n",
    "NUM_DECODER_LAYERS = 8\n",
    "DROPOUT = 0.05\n",
    "model_loaded = TransformerModel(src_vocab_size=SRC_VOCAB_SIZE, tgt_vocab_size=TGT_VOCAB_SIZE, \n",
    "            emb_dim=EMB_DIM, nhead=N_HEAD, num_encoder_layers=NUM_ENCODER_LAYERS, \n",
    "            num_decoder_layers=NUM_DECODER_LAYERS, dropout=DROPOUT)\n",
    "model_loaded = model_loaded.to(device)\n",
    "model_loaded.load_state_dict(torch.load('q2a_transformer_model.pth'))"
   ]
  },
  {
   "cell_type": "code",
   "execution_count": 9,
   "metadata": {},
   "outputs": [],
   "source": [
    "def greedy_decode(model, src, src_mask, max_len, start_symbol):\n",
    "    src = src.to(device)\n",
    "    src_mask = src_mask.to(device)\n",
    "    memory = model.encode(src, src_mask)\n",
    "    ys = torch.ones(1, 1).fill_(start_symbol).type(torch.long).to(device)\n",
    "    for i in range(max_len-1):\n",
    "        memory = memory.to(device)\n",
    "        tgt_mask = (generate_square_subsequent_mask(ys.size(1))\n",
    "                    .type(torch.bool)).to(device)\n",
    "        out = model.decode(ys, memory, tgt_mask)\n",
    "        out = out.transpose(0, 1)\n",
    "        prob = model.linear(out[:, -1])\n",
    "        _, next_word = torch.max(prob, dim=1)\n",
    "        next_word = next_word[-1].item()\n",
    "        ys = torch.cat([ys, torch.ones(1, 1).type_as(src.data).fill_(next_word)], dim=1)\n",
    "        if next_word == EOS_IDX:\n",
    "            break\n",
    "    return ys\n",
    "\n",
    "\n",
    "# actual function to translate input sentence into target language\n",
    "def translate(model: torch.nn.Module, src_sentence: str):\n",
    "    model.eval()\n",
    "    src = token_transform[SRC_LANGUAGE](src_sentence)\n",
    "    src = torch.tensor([[vocab_transform[SRC_LANGUAGE][token] for token in src]], dtype=torch.long)\n",
    "    num_tokens = src.shape[1]\n",
    "    src_mask = (torch.zeros(num_tokens, num_tokens)).type(torch.bool)\n",
    "    tgt_tokens = greedy_decode(\n",
    "        model,  src, src_mask, max_len=num_tokens + 5, start_symbol=BOS_IDX).flatten()\n",
    "    return \" \".join(vocab_transform[TGT_LANGUAGE].lookup_tokens(list(tgt_tokens.cpu().numpy()))).replace(\"<bos>\", \"\").replace(\"<eos>\", \"\")\n"
   ]
  },
  {
   "cell_type": "code",
   "execution_count": 10,
   "metadata": {},
   "outputs": [
    {
     "name": "stderr",
     "output_type": "stream",
     "text": [
      "[nltk_data] Downloading package wordnet to\n",
      "[nltk_data]     /mnt/disk1/sumdev/nltk_data...\n",
      "[nltk_data]   Package wordnet is already up-to-date!\n",
      "[nltk_data] Downloading package punkt to\n",
      "[nltk_data]     /mnt/disk1/sumdev/nltk_data...\n",
      "[nltk_data]   Package punkt is already up-to-date!\n"
     ]
    }
   ],
   "source": [
    "import sacrebleu\n",
    "from nltk.translate import meteor_score\n",
    "from torchtext.data.utils import get_tokenizer\n",
    "from nltk.tokenize import word_tokenize\n",
    "from bert_score import score\n",
    "import nltk\n",
    "nltk.download('wordnet')\n",
    "nltk.download('punkt')\n",
    "\n",
    "\n",
    "tokenizer = get_tokenizer(\"basic_english\")\n",
    "\n",
    "def calculate_bleu(reference_corpus, predicted_corpus):\n",
    "    return sacrebleu.corpus_bleu(predicted_corpus, [reference_corpus])\n",
    "\n",
    "def calculate_meteor(reference_corpus, predicted_corpus):\n",
    "    m_score = 0\n",
    "    for line in zip(reference_corpus, predicted_corpus):\n",
    "        ref = word_tokenize(line[0])\n",
    "        hypo = word_tokenize(line[1])\n",
    "        # m_score += meteor_score.meteor_score([ref], hypo)\n",
    "        m_score += meteor_score.single_meteor_score(ref, hypo)\n",
    "    return m_score / len(reference_corpus)\n",
    "\n",
    "def calculate_bert_score(reference_corpus, predicted_corpus):\n",
    "    _, _, bert_scores = score(predicted_corpus, reference_corpus, lang=\"en\", rescale_with_baseline=True)\n",
    "    return bert_scores.mean().item()"
   ]
  },
  {
   "cell_type": "code",
   "execution_count": 16,
   "metadata": {},
   "outputs": [
    {
     "name": "stderr",
     "output_type": "stream",
     "text": [
      "Some weights of RobertaModel were not initialized from the model checkpoint at roberta-large and are newly initialized: ['roberta.pooler.dense.bias', 'roberta.pooler.dense.weight']\n",
      "You should probably TRAIN this model on a down-stream task to be able to use it for predictions and inference.\n"
     ]
    },
    {
     "name": "stdout",
     "output_type": "stream",
     "text": [
      "BLEU Score: 0.9478835493638972\n",
      "BLEU-1 Score: 23.710785263656526\n",
      "BLEU-2 Score: 3.0627456294890907\n",
      "BLEU-3 Score: 0.3182368727289999\n",
      "BLEU-4 Score: 0.060082613593691325\n",
      "METEOR Score: 0.12734655510735712\n",
      "BERT Score: -0.04137616604566574\n"
     ]
    }
   ],
   "source": [
    "sentence_german_val, sentence_english_val, sentence_english_translated_val = [], [], []\n",
    "\n",
    "for i in range(len(validation_dataset)):\n",
    "    sentence_german_val.append(validation_dataset[i]['translation']['de'])\n",
    "    sentence_english_val.append(validation_dataset[i]['translation']['en'])\n",
    "    sentence_english_translated_val.append(translate(model_loaded, validation_dataset[i]['translation']['de']))\n",
    "\n",
    "bleu_score_val = calculate_bleu(sentence_english_translated_val, sentence_english_val)\n",
    "meteor_score_val = calculate_meteor(sentence_english_translated_val, sentence_english_val)\n",
    "bert_score_val = calculate_bert_score(sentence_english_translated_val, sentence_english_val)\n",
    "\n",
    "print(f'BLEU Score: {bleu_score_val.score}')\n",
    "print(f'BLEU-1 Score: {bleu_score_val.precisions[0]}')\n",
    "print(f'BLEU-2 Score: {bleu_score_val.precisions[1]}')\n",
    "print(f'BLEU-3 Score: {bleu_score_val.precisions[2]}')\n",
    "print(f'BLEU-4 Score: {bleu_score_val.precisions[3]}')\n",
    "print(f'METEOR Score: {meteor_score_val}')\n",
    "print(f'BERT Score: {bert_score_val}')"
   ]
  },
  {
   "cell_type": "code",
   "execution_count": 17,
   "metadata": {},
   "outputs": [
    {
     "name": "stderr",
     "output_type": "stream",
     "text": [
      "Some weights of RobertaModel were not initialized from the model checkpoint at roberta-large and are newly initialized: ['roberta.pooler.dense.bias', 'roberta.pooler.dense.weight']\n",
      "You should probably TRAIN this model on a down-stream task to be able to use it for predictions and inference.\n"
     ]
    },
    {
     "name": "stdout",
     "output_type": "stream",
     "text": [
      "BLEU Score: 1.004693931335485\n",
      "BLEU-1 Score: 23.599868993590043\n",
      "BLEU-2 Score: 2.9466623036649215\n",
      "BLEU-3 Score: 0.3475507991947833\n",
      "BLEU-4 Score: 0.0798214901220906\n",
      "METEOR Score: 0.12672719694687268\n",
      "BERT Score: -0.05438026785850525\n"
     ]
    }
   ],
   "source": [
    "sentence_german_test, sentence_english_test, sentence_english_translated_test = [], [], []\n",
    "\n",
    "for i in range(len(test_dataset)):\n",
    "    sentence_german_test.append(test_dataset[i]['translation']['de'])\n",
    "    sentence_english_test.append(test_dataset[i]['translation']['en'])\n",
    "    sentence_english_translated_test.append(translate(model_loaded, test_dataset[i]['translation']['de']))\n",
    "\n",
    "bleu_score_test = calculate_bleu(sentence_english_translated_test, sentence_english_test)\n",
    "meteor_score_test = calculate_meteor(sentence_english_translated_test, sentence_english_test)\n",
    "bert_score_test = calculate_bert_score(sentence_english_translated_test, sentence_english_test)\n",
    "\n",
    "print(f'BLEU Score: {bleu_score_test.score}')\n",
    "print(f'BLEU-1 Score: {bleu_score_test.precisions[0]}')\n",
    "print(f'BLEU-2 Score: {bleu_score_test.precisions[1]}')\n",
    "print(f'BLEU-3 Score: {bleu_score_test.precisions[2]}')\n",
    "print(f'BLEU-4 Score: {bleu_score_test.precisions[3]}')\n",
    "print(f'METEOR Score: {meteor_score_test}')\n",
    "print(f'BERT Score: {bert_score_test}')"
   ]
  },
  {
   "cell_type": "markdown",
   "metadata": {},
   "source": [
    "# Setup-2B"
   ]
  },
  {
   "cell_type": "code",
   "execution_count": 18,
   "metadata": {},
   "outputs": [
    {
     "name": "stderr",
     "output_type": "stream",
     "text": [
      "You are using the default legacy behaviour of the <class 'transformers.models.t5.tokenization_t5.T5Tokenizer'>. This is expected, and simply means that the `legacy` (previous) behavior will be used so nothing changes for you. If you want to use the new behaviour, set `legacy=False`. This should only be set if you understand what it means, and thoroughly read the reason why this was added as explained in https://github.com/huggingface/transformers/pull/24565\n",
      "Special tokens have been added in the vocabulary, make sure the associated word embeddings are fine-tuned or trained.\n"
     ]
    }
   ],
   "source": [
    "from transformers import T5Tokenizer, T5ForConditionalGeneration\n",
    "\n",
    "device = torch.device('cuda' if torch.cuda.is_available() else 'cpu')\n",
    "tokenizer = T5Tokenizer.from_pretrained(\"google-t5/t5-small\")\n",
    "model = T5ForConditionalGeneration.from_pretrained(\"google-t5/t5-small\")\n",
    "model = model.to(device)"
   ]
  },
  {
   "cell_type": "code",
   "execution_count": 19,
   "metadata": {},
   "outputs": [
    {
     "name": "stderr",
     "output_type": "stream",
     "text": [
      "[nltk_data] Downloading package wordnet to\n",
      "[nltk_data]     /mnt/disk1/sumdev/nltk_data...\n",
      "[nltk_data]   Package wordnet is already up-to-date!\n",
      "[nltk_data] Downloading package punkt to\n",
      "[nltk_data]     /mnt/disk1/sumdev/nltk_data...\n",
      "[nltk_data]   Package punkt is already up-to-date!\n"
     ]
    }
   ],
   "source": [
    "import sacrebleu\n",
    "from nltk.translate import meteor_score\n",
    "from nltk.tokenize import word_tokenize\n",
    "from bert_score import score\n",
    "import nltk\n",
    "nltk.download('wordnet')\n",
    "nltk.download('punkt')\n",
    "\n",
    "\n",
    "\n",
    "def calculate_bleu(reference_corpus, predicted_corpus):\n",
    "    return sacrebleu.corpus_bleu(predicted_corpus, [reference_corpus])\n",
    "\n",
    "def calculate_meteor(reference_corpus, predicted_corpus):\n",
    "    m_score = 0\n",
    "    for line in zip(reference_corpus, predicted_corpus):\n",
    "        ref = word_tokenize(line[0])\n",
    "        hypo = word_tokenize(line[1])\n",
    "        # m_score += meteor_score.meteor_score([ref], hypo)\n",
    "        m_score += meteor_score.single_meteor_score(ref, hypo)\n",
    "    return m_score / len(reference_corpus)\n",
    "\n",
    "def calculate_bert_score(reference_corpus, predicted_corpus):\n",
    "    _, _, bert_scores = score(predicted_corpus, reference_corpus, lang=\"de\", rescale_with_baseline=True)\n",
    "    return bert_scores.mean().item()"
   ]
  },
  {
   "cell_type": "code",
   "execution_count": 23,
   "metadata": {},
   "outputs": [],
   "source": [
    "## Translate English to German\n",
    "def translate_engligh_to_german(dataset):\n",
    "    reference_corpus = []\n",
    "    predicted_corpus = []\n",
    "    prefix = \"translate English to German: \"\n",
    "    \n",
    "    for example in dataset:\n",
    "        input_text = prefix + example[\"translation\"][\"en\"]\n",
    "        input_ids = tokenizer(input_text, return_tensors=\"pt\").input_ids\n",
    "        input_ids = input_ids.to(device)\n",
    "        outputs = model.generate(input_ids)\n",
    "        predicted_text = tokenizer.decode(outputs[0], skip_special_tokens=True)\n",
    "\n",
    "        reference_corpus.append(example[\"translation\"][\"de\"])\n",
    "        predicted_corpus.append(predicted_text)\n",
    "    return reference_corpus, predicted_corpus"
   ]
  },
  {
   "cell_type": "code",
   "execution_count": 24,
   "metadata": {},
   "outputs": [
    {
     "name": "stderr",
     "output_type": "stream",
     "text": [
      "/mnt/disk1/sumdev/CourseWork/a3_env/lib/python3.12/site-packages/transformers/generation/utils.py:1132: UserWarning: Using the model-agnostic default `max_length` (=20) to control the generation length. We recommend setting `max_new_tokens` to control the maximum length of the generation.\n",
      "  warnings.warn(\n"
     ]
    },
    {
     "name": "stdout",
     "output_type": "stream",
     "text": [
      "BLEU Score: 12.756317218851342\n",
      "BLEU-1: 59.53264548754129\n",
      "BLEU-2: 33.98801002147459\n",
      "BLEU-3: 21.935995244228675\n",
      "BLEU-4: 14.930093209054593\n",
      "METEOR Score: 0.3697782590377402\n",
      "BERT Score: 0.46585261821746826\n"
     ]
    }
   ],
   "source": [
    "reference_corpus_val, predicted_corpus_val = translate_engligh_to_german(validation_dataset)\n",
    "\n",
    "bleu_score_ = calculate_bleu(reference_corpus_val, predicted_corpus_val)\n",
    "meteor_score_ = calculate_meteor(reference_corpus_val, predicted_corpus_val)\n",
    "bert_score_ = calculate_bert_score(reference_corpus_val, predicted_corpus_val)\n",
    "\n",
    "print(f'BLEU Score: {bleu_score_.score}')\n",
    "print(f'BLEU-1: {bleu_score_.precisions[0]}')\n",
    "print(f'BLEU-2: {bleu_score_.precisions[1]}')\n",
    "print(f'BLEU-3: {bleu_score_.precisions[2]}')\n",
    "print(f'BLEU-4: {bleu_score_.precisions[3]}')\n",
    "print(f'METEOR Score: {meteor_score_}')\n",
    "print(f'BERT Score: {bert_score_}')"
   ]
  },
  {
   "cell_type": "code",
   "execution_count": 25,
   "metadata": {},
   "outputs": [
    {
     "name": "stderr",
     "output_type": "stream",
     "text": [
      "/mnt/disk1/sumdev/CourseWork/a3_env/lib/python3.12/site-packages/transformers/generation/utils.py:1132: UserWarning: Using the model-agnostic default `max_length` (=20) to control the generation length. We recommend setting `max_new_tokens` to control the maximum length of the generation.\n",
      "  warnings.warn(\n"
     ]
    },
    {
     "name": "stdout",
     "output_type": "stream",
     "text": [
      "BLEU Score: 13.841273518987153\n",
      "BLEU-1: 61.59426598183454\n",
      "BLEU-2: 37.238573517258914\n",
      "BLEU-3: 24.709271686048556\n",
      "BLEU-4: 17.110997683458322\n",
      "METEOR Score: 0.3889479564070389\n",
      "BERT Score: 0.480898916721344\n"
     ]
    }
   ],
   "source": [
    "reference_corpus_test, predicted_corpus_test = translate_engligh_to_german(test_dataset)\n",
    "\n",
    "bleu_score_ = calculate_bleu(reference_corpus_test, predicted_corpus_test)\n",
    "meteor_score_ = calculate_meteor(reference_corpus_test, predicted_corpus_test)\n",
    "bert_score_ = calculate_bert_score(reference_corpus_test, predicted_corpus_test)\n",
    "\n",
    "print(f'BLEU Score: {bleu_score_.score}')\n",
    "print(f'BLEU-1: {bleu_score_.precisions[0]}')\n",
    "print(f'BLEU-2: {bleu_score_.precisions[1]}')\n",
    "print(f'BLEU-3: {bleu_score_.precisions[2]}')\n",
    "print(f'BLEU-4: {bleu_score_.precisions[3]}')\n",
    "print(f'METEOR Score: {meteor_score_}')\n",
    "print(f'BERT Score: {bert_score_}')"
   ]
  },
  {
   "cell_type": "markdown",
   "metadata": {},
   "source": [
    "# Setup-2C"
   ]
  },
  {
   "cell_type": "code",
   "execution_count": 30,
   "metadata": {},
   "outputs": [
    {
     "data": {
      "text/plain": [
       "<All keys matched successfully>"
      ]
     },
     "execution_count": 30,
     "metadata": {},
     "output_type": "execute_result"
    }
   ],
   "source": [
    "import torch\n",
    "from transformers import T5ForConditionalGeneration, T5Tokenizer, T5Config, AutoTokenizer\n",
    "from torch.utils.data import Dataset, DataLoader\n",
    "\n",
    "device = torch.device('cuda' if torch.cuda.is_available() else 'cpu')\n",
    "\n",
    "# Load the T5 tokenizer and model\n",
    "tokenizer = AutoTokenizer.from_pretrained(\"google-t5/t5-small\")\n",
    "model_loaded = T5ForConditionalGeneration.from_pretrained(\"google-t5/t5-small\")\n",
    "model_loaded = model_loaded.to(device)\n",
    "model_loaded.load_state_dict(torch.load('q2c_t5_model.pth'))"
   ]
  },
  {
   "cell_type": "code",
   "execution_count": 31,
   "metadata": {},
   "outputs": [
    {
     "name": "stderr",
     "output_type": "stream",
     "text": [
      "[nltk_data] Downloading package wordnet to\n",
      "[nltk_data]     /mnt/disk1/sumdev/nltk_data...\n",
      "[nltk_data]   Package wordnet is already up-to-date!\n",
      "[nltk_data] Downloading package punkt to\n",
      "[nltk_data]     /mnt/disk1/sumdev/nltk_data...\n",
      "[nltk_data]   Package punkt is already up-to-date!\n"
     ]
    }
   ],
   "source": [
    "import sacrebleu\n",
    "from nltk.translate import meteor_score\n",
    "from torchtext.data.utils import get_tokenizer\n",
    "from nltk.tokenize import word_tokenize\n",
    "from bert_score import score\n",
    "import nltk\n",
    "nltk.download('wordnet')\n",
    "nltk.download('punkt')\n",
    "\n",
    "def calculate_bleu(reference_corpus, predicted_corpus):\n",
    "    return sacrebleu.corpus_bleu(predicted_corpus, [reference_corpus])\n",
    "\n",
    "def calculate_meteor(reference_corpus, predicted_corpus):\n",
    "    m_score = 0\n",
    "    for line in zip(reference_corpus, predicted_corpus):\n",
    "        ref = word_tokenize(line[0])\n",
    "        hypo = word_tokenize(line[1])\n",
    "        # m_score += meteor_score.meteor_score([ref], hypo)\n",
    "        m_score += meteor_score.single_meteor_score(ref, hypo)\n",
    "    return m_score / len(reference_corpus)\n",
    "\n",
    "def calculate_bert_score(reference_corpus, predicted_corpus):\n",
    "    _, _, bert_scores = score(predicted_corpus, reference_corpus, lang=\"en\", rescale_with_baseline=True)\n",
    "    return bert_scores.mean().item()\n",
    "\n",
    "def translate_sentence(finetuned_model, dataset):\n",
    "    finetuned_model = finetuned_model.to(device)\n",
    "    sentence_german = []\n",
    "    sentence_english = []\n",
    "    sentence_english_translated = []\n",
    "    for i in range(len(dataset)):\n",
    "        sentence_german.append(dataset[i]['translation']['de'])\n",
    "        sentence_english.append(dataset[i]['translation']['en'])\n",
    "        input_ids = tokenizer(sentence_german[i], return_tensors=\"pt\").input_ids\n",
    "        input_ids = input_ids.to(device)\n",
    "        outputs = finetuned_model.generate(input_ids)\n",
    "        sentence_english_translated.append(tokenizer.decode(outputs[0], skip_special_tokens=True))\n",
    "    return sentence_german, sentence_english, sentence_english_translated"
   ]
  },
  {
   "cell_type": "code",
   "execution_count": 32,
   "metadata": {},
   "outputs": [
    {
     "name": "stderr",
     "output_type": "stream",
     "text": [
      "/mnt/disk1/sumdev/CourseWork/a3_env/lib/python3.12/site-packages/transformers/generation/utils.py:1132: UserWarning: Using the model-agnostic default `max_length` (=20) to control the generation length. We recommend setting `max_new_tokens` to control the maximum length of the generation.\n",
      "  warnings.warn(\n",
      "Some weights of RobertaModel were not initialized from the model checkpoint at roberta-large and are newly initialized: ['roberta.pooler.dense.bias', 'roberta.pooler.dense.weight']\n",
      "You should probably TRAIN this model on a down-stream task to be able to use it for predictions and inference.\n"
     ]
    },
    {
     "name": "stdout",
     "output_type": "stream",
     "text": [
      "BLEU Score: 9.796981308712855\n",
      "BLEU-1 Score: 31.08972288611847\n",
      "BLEU-2 Score: 13.104756742105977\n",
      "BLEU-3 Score: 6.507231576697461\n",
      "BLEU-4 Score: 3.474777819501815\n",
      "METEOR Score: 0.4084099646621174\n",
      "BERT Score: 0.33497461676597595\n"
     ]
    },
    {
     "name": "stderr",
     "output_type": "stream",
     "text": [
      "Warning: Empty reference sentence detected; setting raw BERTScores to 0.\n"
     ]
    }
   ],
   "source": [
    "sentence_german_val, sentence_english_val, sentence_english_translated_val = translate_sentence(model_loaded, validation_dataset)\n",
    "\n",
    "bleu_score_val = calculate_bleu(sentence_english_translated_val, sentence_english_val)\n",
    "meteor_score_val = calculate_meteor(sentence_english_translated_val, sentence_english_val)\n",
    "bert_score_val = calculate_bert_score(sentence_english_translated_val, sentence_english_val)\n",
    "\n",
    "print(f'BLEU Score: {bleu_score_val.score}')\n",
    "print(f'BLEU-1 Score: {bleu_score_val.precisions[0]}')\n",
    "print(f'BLEU-2 Score: {bleu_score_val.precisions[1]}')\n",
    "print(f'BLEU-3 Score: {bleu_score_val.precisions[2]}')\n",
    "print(f'BLEU-4 Score: {bleu_score_val.precisions[3]}')\n",
    "print(f'METEOR Score: {meteor_score_val}')\n",
    "print(f'BERT Score: {bert_score_val}')"
   ]
  },
  {
   "cell_type": "code",
   "execution_count": 33,
   "metadata": {},
   "outputs": [
    {
     "name": "stderr",
     "output_type": "stream",
     "text": [
      "/mnt/disk1/sumdev/CourseWork/a3_env/lib/python3.12/site-packages/transformers/generation/utils.py:1132: UserWarning: Using the model-agnostic default `max_length` (=20) to control the generation length. We recommend setting `max_new_tokens` to control the maximum length of the generation.\n",
      "  warnings.warn(\n"
     ]
    },
    {
     "name": "stderr",
     "output_type": "stream",
     "text": [
      "Some weights of RobertaModel were not initialized from the model checkpoint at roberta-large and are newly initialized: ['roberta.pooler.dense.bias', 'roberta.pooler.dense.weight']\n",
      "You should probably TRAIN this model on a down-stream task to be able to use it for predictions and inference.\n"
     ]
    },
    {
     "name": "stdout",
     "output_type": "stream",
     "text": [
      "BLEU Score: 11.13598085929917\n",
      "BLEU-1 Score: 32.971506105834465\n",
      "BLEU-2 Score: 14.833115183246074\n",
      "BLEU-3 Score: 7.63235319419831\n",
      "BLEU-4 Score: 4.119877365165176\n",
      "METEOR Score: 0.43761230509235594\n",
      "BERT Score: 0.34816470742225647\n"
     ]
    }
   ],
   "source": [
    "sentence_german_test, sentence_english_test, sentence_english_translated_test = translate_sentence(model_loaded, test_dataset)\n",
    "\n",
    "bleu_score_test = calculate_bleu(sentence_english_translated_test, sentence_english_test)\n",
    "meteor_score_test = calculate_meteor(sentence_english_translated_test, sentence_english_test)\n",
    "bert_score_test = calculate_bert_score(sentence_english_translated_test, sentence_english_test)\n",
    "\n",
    "print(f'BLEU Score: {bleu_score_test.score}')\n",
    "print(f'BLEU-1 Score: {bleu_score_test.precisions[0]}')\n",
    "print(f'BLEU-2 Score: {bleu_score_test.precisions[1]}')\n",
    "print(f'BLEU-3 Score: {bleu_score_test.precisions[2]}')\n",
    "print(f'BLEU-4 Score: {bleu_score_test.precisions[3]}')\n",
    "print(f'METEOR Score: {meteor_score_test}')\n",
    "print(f'BERT Score: {bert_score_test}')"
   ]
  }
 ],
 "metadata": {
  "kernelspec": {
   "display_name": "a3_env",
   "language": "python",
   "name": "python3"
  },
  "language_info": {
   "codemirror_mode": {
    "name": "ipython",
    "version": 3
   },
   "file_extension": ".py",
   "mimetype": "text/x-python",
   "name": "python",
   "nbconvert_exporter": "python",
   "pygments_lexer": "ipython3",
   "version": "3.12.2"
  }
 },
 "nbformat": 4,
 "nbformat_minor": 2
}
