{
 "cells": [
  {
   "cell_type": "code",
   "execution_count": null,
   "metadata": {},
   "outputs": [],
   "source": [
    "import pandas as pd\n",
    "import torch\n",
    "import matplotlib.pyplot as plt\n",
    "from sklearn.metrics import mean_squared_error\n",
    "from scipy.stats import pearsonr\n",
    "from sentence_transformers import SentenceTransformer, InputExample, losses\n",
    "from torch.utils.data import DataLoader\n",
    "\n",
    "# Read the data from train and val CSV files\n",
    "train_df = pd.read_csv('/content/train.csv', sep='\\t')\n",
    "train_df = train_df.dropna()\n",
    "val_df = pd.read_csv('/content/dev.csv', sep='\\t')\n",
    "val_df = val_df.dropna()\n",
    "\n",
    "train_examples = [InputExample(texts=[row['sentence1'], row['sentence2']], label=row['score']) for _, row in train_df.iterrows()]\n",
    "val_examples = [InputExample(texts=[row['sentence1'], row['sentence2']], label=row['score']) for _, row in val_df.iterrows()]\n",
    "model = SentenceTransformer('distilbert-base-nli-mean-tokens')\n",
    "\n",
    "train_batch_size = 1\n",
    "train_dataloader = DataLoader(train_examples, shuffle=True, batch_size=train_batch_size)\n",
    "val_dataloader = DataLoader(val_examples, shuffle=False, batch_size=train_batch_size)\n",
    "train_loss = losses.CosineSimilarityLoss(model=model)\n",
    "\n",
    "model.fit(\n",
    "    train_objectives=[(train_dataloader, train_loss)],\n",
    "    epochs=10,\n",
    ")\n",
    "\n",
    "model.eval()\n",
    "predictions = []\n",
    "true_labels = []\n",
    "\n",
    "for batch in val_dataloader:\n",
    "    texts = batch.texts\n",
    "    labels = batch.label\n",
    "    with torch.no_grad():\n",
    "        outputs = model.encode(texts)\n",
    "    predictions.extend(outputs.tolist())\n",
    "    true_labels.extend(labels.tolist())\n",
    "\n",
    "correlation_coefficient = pearsonr(predictions, true_labels)[0]\n",
    "print(f\"Pearson Correlation on Validation Set: {correlation_coefficient}\")\n",
    "\n",
    "# Plotting Losses\n",
    "plt.plot(range(1, len(model.training_loss_history) + 1), model.training_loss_history, label='Train Loss')\n",
    "plt.xlabel('Epochs')\n",
    "plt.ylabel('Loss')\n",
    "plt.title('Training Loss')\n",
    "plt.legend()\n",
    "plt.show()\n"
   ]
  }
 ],
 "metadata": {
  "language_info": {
   "name": "python"
  }
 },
 "nbformat": 4,
 "nbformat_minor": 2
}
